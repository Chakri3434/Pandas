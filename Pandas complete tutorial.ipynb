{
 "cells": [
  {
   "cell_type": "markdown",
   "id": "a78460d2-d160-466d-a34a-ac57db64bc45",
   "metadata": {},
   "source": [
    "# Loading the Data"
   ]
  },
  {
   "cell_type": "code",
   "execution_count": 40,
   "id": "6bf2f90a-f57a-4c0c-972a-559b4ed93a68",
   "metadata": {},
   "outputs": [
    {
     "name": "stdout",
     "output_type": "stream",
     "text": [
      "   #                   Name Type 1  Type 2  HP  Attack  Defense  Sp. Atk  \\\n",
      "0  1              Bulbasaur  Grass  Poison  45      49       49       65   \n",
      "1  2                Ivysaur  Grass  Poison  60      62       63       80   \n",
      "2  3               Venusaur  Grass  Poison  80      82       83      100   \n",
      "3  3  VenusaurMega Venusaur  Grass  Poison  80     100      123      122   \n",
      "4  4             Charmander   Fire     NaN  39      52       43       60   \n",
      "\n",
      "   Sp. Def  Speed  Generation  Legendary  \n",
      "0       65     45           1      False  \n",
      "1       80     60           1      False  \n",
      "2      100     80           1      False  \n",
      "3      120     80           1      False  \n",
      "4       50     65           1      False  \n"
     ]
    }
   ],
   "source": [
    "import pandas as pd\n",
    "\n",
    "# df = pd.read_csv('pokemon_data.csv')\n",
    "# print(df.head(3))\n",
    "# print(df.tail(3))\n",
    "\n",
    "# df_xlsx = pd.read_excel('pokemon_data.xlsx')\n",
    "# print(df_xlsx.head(3))\n",
    "\n",
    "# df = pd.read_csv('pokemon_data.txt')\n",
    "df = pd.read_csv('pokemon_data.txt',delimiter='\\t')\n",
    "print(df.head(5))"
   ]
  },
  {
   "cell_type": "markdown",
   "id": "f338ea16-805e-4a51-80d9-83e616ba79fe",
   "metadata": {},
   "source": [
    "# Reading the Data"
   ]
  },
  {
   "cell_type": "code",
   "execution_count": 41,
   "id": "822f9469-a857-4431-ae23-b69dacf21eb7",
   "metadata": {},
   "outputs": [
    {
     "name": "stdout",
     "output_type": "stream",
     "text": [
      "Fire\n",
      "Charmander\n"
     ]
    }
   ],
   "source": [
    "### Reading the headers\n",
    "# print(df.columns)\n",
    "\n",
    "### Reading each column\n",
    "# print(df['Name'][2:6])\n",
    "# print (df.Name)\n",
    "# print(df[['Name','Type 1','HP']][:5])\n",
    "\n",
    "### Reading each row\n",
    "# print(df.head(5))\n",
    "# print(df.iloc[0])\n",
    "# print(df.iloc[:3])\n",
    "\n",
    "### Reading specific location (R,C)\n",
    "print(df.iloc[4,2])\n",
    "print(df.iloc[4,1])"
   ]
  },
  {
   "cell_type": "code",
   "execution_count": null,
   "id": "19d66dad-640e-4b34-9e76-ce17b72f9094",
   "metadata": {},
   "outputs": [],
   "source": []
  }
 ],
 "metadata": {
  "kernelspec": {
   "display_name": "Python 3 (ipykernel)",
   "language": "python",
   "name": "python3"
  },
  "language_info": {
   "codemirror_mode": {
    "name": "ipython",
    "version": 3
   },
   "file_extension": ".py",
   "mimetype": "text/x-python",
   "name": "python",
   "nbconvert_exporter": "python",
   "pygments_lexer": "ipython3",
   "version": "3.12.7"
  }
 },
 "nbformat": 4,
 "nbformat_minor": 5
}
